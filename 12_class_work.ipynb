{
  "nbformat": 4,
  "nbformat_minor": 0,
  "metadata": {
    "colab": {
      "provenance": []
    },
    "kernelspec": {
      "name": "python3",
      "display_name": "Python 3"
    },
    "language_info": {
      "name": "python"
    }
  },
  "cells": [
    {
      "cell_type": "markdown",
      "source": [
        "# Class_12 work and with two Assignments\n",
        "1. ass one is a recursion func by factorial\n",
        "2. ass second is a lambda function with map square function"
      ],
      "metadata": {
        "id": "b41RliAvX5LV"
      }
    },
    {
      "cell_type": "markdown",
      "source": [
        "# what is the Recursive Functions / Recursion?\n",
        "- when a function is called itself\n",
        "- function k under usi func ko call kerna recursion kehlata hai\n",
        "- example of count down:\n",
        "\n",
        "# def count_down():\n",
        "\n",
        "#     count_down()  # jub ek func khud ko call kerta hai recursion function kehlata hai\n",
        "     \n",
        "# count_down()"
      ],
      "metadata": {
        "id": "G4ZJzL2uYJ6K"
      }
    },
    {
      "cell_type": "code",
      "source": [
        "# Count_Down with reccuesion fun\n",
        "def count_down(roza : int):\n",
        "      print(\"Roza>>>\",roza)\n",
        "      if roza > 1:\n",
        "            count_down(roza -1)\n",
        "count_down(30)\n",
        "print(\"Ramzan Mubarak or 30 Roza Mubarak\")"
      ],
      "metadata": {
        "colab": {
          "base_uri": "https://localhost:8080/"
        },
        "id": "0LpHPuSYYbsY",
        "outputId": "0d9778cf-762d-41b7-c569-b9c984936566"
      },
      "execution_count": 1,
      "outputs": [
        {
          "output_type": "stream",
          "name": "stdout",
          "text": [
            "Roza>>> 30\n",
            "Roza>>> 29\n",
            "Roza>>> 28\n",
            "Roza>>> 27\n",
            "Roza>>> 26\n",
            "Roza>>> 25\n",
            "Roza>>> 24\n",
            "Roza>>> 23\n",
            "Roza>>> 22\n",
            "Roza>>> 21\n",
            "Roza>>> 20\n",
            "Roza>>> 19\n",
            "Roza>>> 18\n",
            "Roza>>> 17\n",
            "Roza>>> 16\n",
            "Roza>>> 15\n",
            "Roza>>> 14\n",
            "Roza>>> 13\n",
            "Roza>>> 12\n",
            "Roza>>> 11\n",
            "Roza>>> 10\n",
            "Roza>>> 9\n",
            "Roza>>> 8\n",
            "Roza>>> 7\n",
            "Roza>>> 6\n",
            "Roza>>> 5\n",
            "Roza>>> 4\n",
            "Roza>>> 3\n",
            "Roza>>> 2\n",
            "Roza>>> 1\n",
            "Ramzan Mubarak or 30 Roza Mubarak\n"
          ]
        }
      ]
    },
    {
      "cell_type": "code",
      "source": [
        "# count down if else condition\n",
        "def count_down(num: int)-> int:\n",
        "    if num == 0: # 10 <= 0\n",
        "        print(\"Count Down Done\")\n",
        "    else:\n",
        "        print(\"num>>>\",num)  # 10 -> 9 -> 8\n",
        "        count_down(num -1) # 10 - 1 = 9 - 1 = 8\n",
        "\n",
        "\n",
        "count_down(10)\n",
        "\n",
        "# factorial =  num * num-1"
      ],
      "metadata": {
        "colab": {
          "base_uri": "https://localhost:8080/"
        },
        "id": "GLomgvFSYjLB",
        "outputId": "07d81b5e-0931-42d5-f9e6-2396dbdb988a"
      },
      "execution_count": 2,
      "outputs": [
        {
          "output_type": "stream",
          "name": "stdout",
          "text": [
            "num>>> 10\n",
            "num>>> 9\n",
            "num>>> 8\n",
            "num>>> 7\n",
            "num>>> 6\n",
            "num>>> 5\n",
            "num>>> 4\n",
            "num>>> 3\n",
            "num>>> 2\n",
            "num>>> 1\n",
            "Count Down Done\n"
          ]
        }
      ]
    },
    {
      "cell_type": "markdown",
      "source": [
        "# Assaignment no.1 is recursion function by factorial function"
      ],
      "metadata": {
        "id": "VF9rzr1bYtWO"
      }
    },
    {
      "cell_type": "code",
      "source": [
        "# Factorial by input and recursive or recursion function\n",
        "def fact(num:int):\n",
        "      if num == 0:\n",
        "            return 1\n",
        "      else:\n",
        "            return num * fact(num -1)\n",
        "factorial_num = int(input(\"Enter Your Factorial number\"))\n",
        "result = fact(factorial_num)\n",
        "print(result)"
      ],
      "metadata": {
        "colab": {
          "base_uri": "https://localhost:8080/"
        },
        "id": "eayykY0UYwP3",
        "outputId": "b9787c9c-d56f-47b9-d4e6-e82d365506a6"
      },
      "execution_count": 4,
      "outputs": [
        {
          "output_type": "stream",
          "name": "stdout",
          "text": [
            "Enter Your Factorial number 6\n",
            "720\n"
          ]
        }
      ]
    },
    {
      "cell_type": "code",
      "source": [
        "# without input factorial\n",
        "def factorial(n):\n",
        "      if n == 0 or n == 1:\n",
        "            return 1\n",
        "      else:\n",
        "            return n * factorial(n-1)\n",
        "factorial(3)"
      ],
      "metadata": {
        "colab": {
          "base_uri": "https://localhost:8080/"
        },
        "id": "vsD1hLU9ZCuN",
        "outputId": "820a4850-5ba9-4715-9633-74a4386b1ad9"
      },
      "execution_count": 5,
      "outputs": [
        {
          "output_type": "execute_result",
          "data": {
            "text/plain": [
              "6"
            ]
          },
          "metadata": {},
          "execution_count": 5
        }
      ]
    },
    {
      "cell_type": "markdown",
      "source": [
        "# Lambda function\n",
        "\n",
        "This is the Normal Life Example:"
      ],
      "metadata": {
        "id": "fAZgsR0MZJO8"
      }
    },
    {
      "cell_type": "code",
      "source": [
        "# This is a example of a normal addition function\n",
        "def add(a:int,b:int) -> int:\n",
        "    return a + b\n",
        "result = add(5,9) # 11\n",
        "print(\"result>>>\",result)"
      ],
      "metadata": {
        "colab": {
          "base_uri": "https://localhost:8080/"
        },
        "id": "J6lhhXsqZOk2",
        "outputId": "db67256d-c738-4bc0-fc37-8db98acf7703"
      },
      "execution_count": 6,
      "outputs": [
        {
          "output_type": "stream",
          "name": "stdout",
          "text": [
            "result>>> 14\n"
          ]
        }
      ]
    },
    {
      "cell_type": "code",
      "source": [
        "# This is a example of addition function with lambda\n",
        "\n",
        "# def add(a:int,b:int) -> int:\n",
        "#     return a + b\n",
        "\n",
        "\n",
        "# syntax of lambda\n",
        "# lambda , parameters , : ,  expression/ statement\n",
        "add = lambda a , b: a + b    # one line function / mini func\n",
        "\n",
        "result = add(5,6)\n",
        "print(\"result>>>\",result)"
      ],
      "metadata": {
        "colab": {
          "base_uri": "https://localhost:8080/"
        },
        "id": "x2BdEgTqZfUQ",
        "outputId": "9a8dede2-f2c7-4f17-c0b9-11a8dad2c3bf"
      },
      "execution_count": 7,
      "outputs": [
        {
          "output_type": "stream",
          "name": "stdout",
          "text": [
            "result>>> 11\n"
          ]
        }
      ]
    },
    {
      "cell_type": "markdown",
      "source": [
        "# map function"
      ],
      "metadata": {
        "id": "sycD0ywMZmEa"
      }
    },
    {
      "cell_type": "code",
      "source": [
        "# square map function\n",
        "numbers = [1,2,3,4,5]\n",
        "#         [1, 4, 9, 16, 25]\n",
        "\n",
        "def square(num: int) :\n",
        "    return num * num\n",
        "\n",
        "new_list =list(map(square,numbers))\n",
        "print(\"numbers\",numbers)\n",
        "print(\"new_list\",new_list)"
      ],
      "metadata": {
        "colab": {
          "base_uri": "https://localhost:8080/"
        },
        "id": "d4MK6C6FZnvu",
        "outputId": "f0b2c728-fc87-45e2-ae81-4ba61e1a3d6f"
      },
      "execution_count": 8,
      "outputs": [
        {
          "output_type": "stream",
          "name": "stdout",
          "text": [
            "numbers [1, 2, 3, 4, 5]\n",
            "new_list [1, 4, 9, 16, 25]\n"
          ]
        }
      ]
    },
    {
      "cell_type": "markdown",
      "source": [
        "# Assaignment no.2 lambda func by map function\n",
        "- return show the Error"
      ],
      "metadata": {
        "id": "9ch6tD8cZtOp"
      }
    },
    {
      "cell_type": "code",
      "source": [
        "# lambda func by map function / error this func\n",
        "\n",
        "numbers =[1,2,3,4,5]\n",
        "def lambda(num:int):\n",
        "      return num*num\n",
        "new_list = list(map(lambda,numbers))\n",
        "print(new_list)"
      ],
      "metadata": {
        "id": "bAEoaaowZ18V"
      },
      "execution_count": null,
      "outputs": []
    },
    {
      "cell_type": "markdown",
      "source": [
        "- return dont show the Error"
      ],
      "metadata": {
        "id": "zQJgonOZZ7zJ"
      }
    },
    {
      "cell_type": "code",
      "source": [
        "# lambda function by map func (this is the correct not error)\n",
        "numbers = [1, 2, 3, 4, 5]\n",
        "new_list = list(map(lambda num: num * num, numbers))\n",
        "print(new_list)"
      ],
      "metadata": {
        "colab": {
          "base_uri": "https://localhost:8080/"
        },
        "id": "0rlDH69nZ-Wt",
        "outputId": "6b3769ad-af16-4aef-f60e-b51015bd02be"
      },
      "execution_count": 9,
      "outputs": [
        {
          "output_type": "stream",
          "name": "stdout",
          "text": [
            "[1, 4, 9, 16, 25]\n"
          ]
        }
      ]
    },
    {
      "cell_type": "code",
      "source": [
        "numbers = [1, 2, 3, 4, 5]\n",
        "# [1, 4, 9, 16, 25] output\n",
        "\n",
        "# Define the lambda function that squares a number\n",
        "square = lambda n: n * n\n",
        "\n",
        "# Create an empty list to store the squared numbers\n",
        "new_list = []\n",
        "\n",
        "# Use a for loop to apply the lambda function to each number in the list\n",
        "for num in numbers:\n",
        "\n",
        "    squared_number = square(num)  # Correctly pass num to the lambda function\n",
        "\n",
        "    new_list.append(squared_number)\n",
        "\n",
        "print(\"Squared numbers:\", new_list)"
      ],
      "metadata": {
        "colab": {
          "base_uri": "https://localhost:8080/"
        },
        "id": "aijhhLeOaEV0",
        "outputId": "f794e285-3aa3-4144-e061-f1d3342c9f34"
      },
      "execution_count": 10,
      "outputs": [
        {
          "output_type": "stream",
          "name": "stdout",
          "text": [
            "Squared numbers: [1, 4, 9, 16, 25]\n"
          ]
        }
      ]
    },
    {
      "cell_type": "markdown",
      "source": [
        "# Import O/S (Oprating System) Modules Function"
      ],
      "metadata": {
        "id": "gjTQ2SdPaJpk"
      }
    },
    {
      "cell_type": "markdown",
      "source": [
        "1. Directory or Folder Methods In O/S Mudules"
      ],
      "metadata": {
        "id": "9IxcovlOaS4C"
      }
    },
    {
      "cell_type": "markdown",
      "source": [
        "# CWD"
      ],
      "metadata": {
        "id": "L5YwOtUpai2A"
      }
    },
    {
      "cell_type": "markdown",
      "source": [
        "# CWD is a directory (folder) method\n",
        "- cwd or current working directory\n",
        "- cwd method get directory (folder) path"
      ],
      "metadata": {
        "id": "dqEbLXZ7aoaY"
      }
    },
    {
      "cell_type": "code",
      "source": [
        "# cwd\n",
        "import os\n",
        "print(\"cwd\",os.getcwd())\n",
        "print(\"return output our folder path\")"
      ],
      "metadata": {
        "colab": {
          "base_uri": "https://localhost:8080/"
        },
        "id": "KJEzXZqga0GN",
        "outputId": "a85ba194-055d-4cf8-a03e-b8d66c5af452"
      },
      "execution_count": 11,
      "outputs": [
        {
          "output_type": "stream",
          "name": "stdout",
          "text": [
            "cwd /content\n",
            "return output our folder path\n"
          ]
        }
      ]
    },
    {
      "cell_type": "markdown",
      "source": [
        "# List DIR\n",
        "- how many files in our folder list dir tell us"
      ],
      "metadata": {
        "id": "_9kfAyhebCN3"
      }
    },
    {
      "cell_type": "code",
      "source": [
        "# list dir\n",
        "print(\"list dir\",os.listdir())"
      ],
      "metadata": {
        "colab": {
          "base_uri": "https://localhost:8080/"
        },
        "id": "64ySv9h3bIwR",
        "outputId": "b62d561d-9d79-48cb-936c-a053407f3e0f"
      },
      "execution_count": 12,
      "outputs": [
        {
          "output_type": "stream",
          "name": "stdout",
          "text": [
            "list dir ['.config', 'sample_data']\n"
          ]
        }
      ]
    },
    {
      "cell_type": "markdown",
      "source": [
        "# makdir"
      ],
      "metadata": {
        "id": "6b8CMMQkbP0i"
      }
    },
    {
      "cell_type": "code",
      "source": [
        "# mkdir\n",
        "print(\"new folder\",os.mkdir(\"make folder\"))"
      ],
      "metadata": {
        "colab": {
          "base_uri": "https://localhost:8080/"
        },
        "id": "yTo3iwBPbRNi",
        "outputId": "b8ab320a-939c-4904-a465-57f7cda4d96a"
      },
      "execution_count": 13,
      "outputs": [
        {
          "output_type": "stream",
          "name": "stdout",
          "text": [
            "new folder None\n"
          ]
        }
      ]
    },
    {
      "cell_type": "markdown",
      "source": [
        "# Rename\n",
        "- rename return show us error in this case"
      ],
      "metadata": {
        "id": "zJLskATkbZqw"
      }
    },
    {
      "cell_type": "code",
      "source": [
        "print(\"rename\",os.rename(\"make folder\"))\n",
        "# output error bcz make folder already exist"
      ],
      "metadata": {
        "id": "7bKOr1lObmes"
      },
      "execution_count": null,
      "outputs": []
    },
    {
      "cell_type": "markdown",
      "source": [
        "- rename return show us not error in this case"
      ],
      "metadata": {
        "id": "ZOxhyQ4qboPw"
      }
    },
    {
      "cell_type": "code",
      "source": [
        "print(\"rename\",os.rename(\"make folder\",\"test folder\"))\n",
        "# output not error instead make folder will be create test folder"
      ],
      "metadata": {
        "colab": {
          "base_uri": "https://localhost:8080/"
        },
        "id": "CdtPz3whbvaj",
        "outputId": "eb0520ef-3136-45e1-d3a5-5a5ae7745f4c"
      },
      "execution_count": 17,
      "outputs": [
        {
          "output_type": "stream",
          "name": "stdout",
          "text": [
            "rename None\n"
          ]
        }
      ]
    },
    {
      "cell_type": "markdown",
      "source": [
        "# files Methods by os modules or\n",
        "# file Operation"
      ],
      "metadata": {
        "id": "TF2v3A4cb2YN"
      }
    },
    {
      "cell_type": "markdown",
      "source": [
        "# files methods\n",
        "- if open the file so have to close the file\n",
        "- file methods has a different MODES like read, write , append...with\n",
        "- read is the default file method\n",
        "- but we have discuss or learn some importent methods"
      ],
      "metadata": {
        "id": "PjENl2APb7Bz"
      }
    },
    {
      "cell_type": "markdown",
      "source": [
        "# file Text method (with . txt Extension)\n",
        "- we write the text in the file we use text with .txt extention"
      ],
      "metadata": {
        "id": "KdlkwOB3cCfl"
      }
    },
    {
      "cell_type": "code",
      "source": [
        "# Simple text file with .txt extention\n",
        "file = open(\"text.txt\")   # w is the use for write , \"w\" must be mention with of the file name\n",
        "print(\"file>>>>\",file)\n",
        "file.close()"
      ],
      "metadata": {
        "colab": {
          "base_uri": "https://localhost:8080/"
        },
        "id": "Vbc1nrWIcGCE",
        "outputId": "76694d12-82fa-4ba0-fcce-e26305a8d706"
      },
      "execution_count": 20,
      "outputs": [
        {
          "output_type": "stream",
          "name": "stdout",
          "text": [
            "file>>>> <_io.TextIOWrapper name='text.txt' mode='r' encoding='UTF-8'>\n"
          ]
        }
      ]
    },
    {
      "cell_type": "code",
      "source": [
        "# file write mode method\n",
        "file = open(\"text.txt\",\"w\")   # w is the use for write , \"w\" must be mention with of the file name\n",
        "file.write(\"my name is Eman\")\n",
        "file.close()"
      ],
      "metadata": {
        "id": "TFGSiJzqcOg7"
      },
      "execution_count": 19,
      "outputs": []
    },
    {
      "cell_type": "markdown",
      "source": [
        "# file Read method (\"r\")"
      ],
      "metadata": {
        "id": "tYHBI-ckcWw8"
      }
    },
    {
      "cell_type": "code",
      "source": [
        "file = open(\"text.txt\",\"r\")   # w is the use for write , \"w\" must be mention with of the file name\n",
        "print(\"file>>>\",file.read())\n",
        "file.close()"
      ],
      "metadata": {
        "colab": {
          "base_uri": "https://localhost:8080/"
        },
        "id": "kF3rQz1wcaPx",
        "outputId": "1df44a85-4647-48bf-fcc9-4b4a557834bf"
      },
      "execution_count": 21,
      "outputs": [
        {
          "output_type": "stream",
          "name": "stdout",
          "text": [
            "file>>> my name is Eman\n"
          ]
        }
      ]
    },
    {
      "cell_type": "markdown",
      "source": [
        "# file write method (\"w\")\n",
        "I am Good"
      ],
      "metadata": {
        "id": "bhbWZfk1cgim"
      }
    },
    {
      "cell_type": "markdown",
      "source": [
        "# file Over wright method"
      ],
      "metadata": {
        "id": "VF3-EBJYcl_v"
      }
    },
    {
      "cell_type": "code",
      "source": [
        "file = open(\"text2.txt\",\"w\")      # this is the text2 file write \"i am good\"\n",
        "file.write(\"I am good\")\n",
        "file.close()\n",
        "# over wright\n",
        "file = open(\"text2.txt\",\"w\")      # this is the text2 file over ride \"i am good replace hi how are you\"\n",
        "file.write(\"Hi how are you\")      # text i am good remove\n",
        "file.close()"
      ],
      "metadata": {
        "id": "yOFqMqiwcoGX"
      },
      "execution_count": null,
      "outputs": []
    },
    {
      "cell_type": "markdown",
      "source": [
        "# Append file method (a)\n",
        " include something , any text in our file we use append method"
      ],
      "metadata": {
        "id": "drXa2-BYct3i"
      }
    },
    {
      "cell_type": "code",
      "source": [
        "file = open(\"text2.txt\",\"a\")\n",
        "file.write(\"\\nI am fine\")\n",
        "file.write(\"\\nThank YOU\")         # i am fine a jayega new line k sath (for new line \\n)\n",
        "file.close()"
      ],
      "metadata": {
        "id": "cNjpznSpcwV1"
      },
      "execution_count": 23,
      "outputs": []
    },
    {
      "cell_type": "markdown",
      "source": [
        "# With file method"
      ],
      "metadata": {
        "id": "k24jdd3Rc2_h"
      }
    },
    {
      "cell_type": "code",
      "source": [
        "with open(\"text2.txt\",\"a\") as file:\n",
        "    file.write(\"\\nkesa lga mera mazaq\")"
      ],
      "metadata": {
        "id": "Rr9U-4Sxc5mL"
      },
      "execution_count": 22,
      "outputs": []
    }
  ]
}